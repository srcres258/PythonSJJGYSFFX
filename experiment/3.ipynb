{
 "cells": [
  {
   "cell_type": "markdown",
   "id": "4d77417c",
   "metadata": {},
   "source": [
    "# 实验序号 3\n",
    "\n",
    "## 实验项目名称\n",
    "\n",
    "贪心算法\n",
    "\n",
    "## 实验目的、要求\n",
    "\n",
    "掌握贪心法的设计思想，掌握贪心法的求解步骤、掌握用贪心法解题的算法框架，掌握贪心策略的正确性证明。\n",
    "\n",
    "## 实验内容\n",
    "\n",
    "最小延迟调度问题"
   ]
  },
  {
   "cell_type": "code",
   "execution_count": 2,
   "id": "ef3e9b78",
   "metadata": {},
   "outputs": [],
   "source": [
    "from typing import List, Tuple\n",
    "\n",
    "def minimize_lateness(jobs: List[Tuple[int, int]]) -> int:\n",
    "    \"\"\"\n",
    "    解决最小延迟调度问题：最小化最大延迟调度算法\n",
    "    \n",
    "    :param jobs: 任务列表，每个任务是一个元祖 (处理时间, 截止时间)\n",
    "    :return: 最大延迟\n",
    "    \"\"\"\n",
    "    \n",
    "    # 按照截止时间升序排序\n",
    "    sorted_jobs = sorted(jobs, key=lambda x: x[1])\n",
    "    \n",
    "    current_time = 0\n",
    "    max_lateness = 0\n",
    "    \n",
    "    for job in sorted_jobs:\n",
    "        processing_time, deadline = job\n",
    "        current_time += processing_time\n",
    "        lateness = max(0, current_time - deadline)\n",
    "        if lateness > max_lateness:\n",
    "            max_lateness = lateness\n",
    "    \n",
    "    return max_lateness"
   ]
  },
  {
   "cell_type": "code",
   "execution_count": 3,
   "id": "e0aebf13",
   "metadata": {},
   "outputs": [
    {
     "name": "stdout",
     "output_type": "stream",
     "text": [
      "最大延迟为：1\n"
     ]
    }
   ],
   "source": [
    "def main() -> None:\n",
    "    \"\"\"Example usage\"\"\"\n",
    "    \n",
    "    jobs = [\n",
    "        (3, 6),\n",
    "        (2, 9),\n",
    "        (1, 8),\n",
    "        (4, 9),\n",
    "        (3, 14),\n",
    "        (2, 15)\n",
    "    ]\n",
    "    \n",
    "    max_lateness = minimize_lateness(jobs)\n",
    "    print(f\"最大延迟为：{max_lateness}\") # 预期输出：1\n",
    "\n",
    "if __name__ == '__main__':\n",
    "    main()"
   ]
  }
 ],
 "metadata": {
  "kernelspec": {
   "display_name": "Python 3",
   "language": "python",
   "name": "python3"
  },
  "language_info": {
   "codemirror_mode": {
    "name": "ipython",
    "version": 3
   },
   "file_extension": ".py",
   "mimetype": "text/x-python",
   "name": "python",
   "nbconvert_exporter": "python",
   "pygments_lexer": "ipython3",
   "version": "3.13.2"
  }
 },
 "nbformat": 4,
 "nbformat_minor": 5
}
