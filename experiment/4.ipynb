{
 "cells": [
  {
   "cell_type": "markdown",
   "id": "ef36d469",
   "metadata": {},
   "source": [
    "# 实验序号 4\n",
    "\n",
    "## 实验项目名称\n",
    "\n",
    "动态规划算法\n",
    "\n",
    "## 实验目的、要求\n",
    "\n",
    "理解动态规划法的设计思想，掌握动态规划法的求解步骤，掌握用动态规划法解题的算法框架。\n",
    "\n",
    "## 实验内容\n",
    "\n",
    "最大子段和问题"
   ]
  },
  {
   "cell_type": "code",
   "execution_count": 1,
   "id": "c3d24374",
   "metadata": {},
   "outputs": [],
   "source": [
    "from typing import List\n",
    "\n",
    "def max_subarray(nums: List[int]) -> int:\n",
    "    \"\"\"\n",
    "    解决最大子段和问题：Kadane算法\n",
    "    \"\"\"\n",
    "    \n",
    "    if not nums:\n",
    "        return 0\n",
    "    if len(nums) == 0:\n",
    "        return 0\n",
    "    if len(nums) == 1:\n",
    "        return nums[0]\n",
    "    \n",
    "    max_current = nums[0]\n",
    "    max_global = nums[0]\n",
    "    \n",
    "    for num in nums[1:]:\n",
    "        max_current = max(num, max_current + num)\n",
    "        max_global = max(max_global, max_current)\n",
    "        \n",
    "    return max_global"
   ]
  },
  {
   "cell_type": "code",
   "execution_count": 2,
   "id": "9b64c846",
   "metadata": {},
   "outputs": [
    {
     "name": "stdout",
     "output_type": "stream",
     "text": [
      "6\n"
     ]
    }
   ],
   "source": [
    "def main() -> None:\n",
    "    \"\"\"Example usage\"\"\"\n",
    "    \n",
    "    nums = [-2, 1, -3, 4, -1, 2, 1, -5, 4]\n",
    "    print(max_subarray(nums))\n",
    "\n",
    "if __name__ == '__main__':\n",
    "    main()"
   ]
  }
 ],
 "metadata": {
  "kernelspec": {
   "display_name": "Python 3",
   "language": "python",
   "name": "python3"
  },
  "language_info": {
   "codemirror_mode": {
    "name": "ipython",
    "version": 3
   },
   "file_extension": ".py",
   "mimetype": "text/x-python",
   "name": "python",
   "nbconvert_exporter": "python",
   "pygments_lexer": "ipython3",
   "version": "3.13.2"
  }
 },
 "nbformat": 4,
 "nbformat_minor": 5
}
