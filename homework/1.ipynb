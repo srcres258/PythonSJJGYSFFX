{
 "cells": [
  {
   "cell_type": "markdown",
   "id": "2c51d6eb",
   "metadata": {},
   "source": [
    "# 作业\n",
    "\n",
    "使用 turtle 模块，绘制科赫雪花（koch snowflake）曲线。"
   ]
  },
  {
   "cell_type": "code",
   "execution_count": 5,
   "id": "7873acad",
   "metadata": {},
   "outputs": [],
   "source": [
    "import turtle as tt"
   ]
  },
  {
   "cell_type": "code",
   "execution_count": null,
   "id": "e0c32d38",
   "metadata": {},
   "outputs": [],
   "source": [
    "MAX_LEVEL = 4\n",
    "INITIAL_LINE_LEN = 450\n",
    "\n",
    "def line_len(level: int) -> int:\n",
    "    return int(round(INITIAL_LINE_LEN / (3 ** level)))\n",
    "\n",
    "def draw_koch_curve(cur_level: int) -> None:\n",
    "    if cur_level >= MAX_LEVEL:\n",
    "        # 达到最大层级，直接绘制直线段\n",
    "        tt.fd(line_len(cur_level))\n",
    "        return\n",
    "    # 绘制科赫曲线形状\n",
    "    draw_koch_curve(cur_level + 1)\n",
    "    tt.right(60)\n",
    "    draw_koch_curve(cur_level + 1)\n",
    "    tt.left(120)\n",
    "    draw_koch_curve(cur_level + 1)\n",
    "    tt.right(60)\n",
    "    draw_koch_curve(cur_level + 1)\n",
    "    \n",
    "if __name__ == '__main__':\n",
    "    tt.clearscreen()\n",
    "    \n",
    "    draw_koch_curve(0)\n",
    "    tt.left(120)\n",
    "    draw_koch_curve(0)\n",
    "    tt.left(120)\n",
    "    draw_koch_curve(0)\n"
   ]
  }
 ],
 "metadata": {
  "kernelspec": {
   "display_name": "Python 3",
   "language": "python",
   "name": "python3"
  },
  "language_info": {
   "codemirror_mode": {
    "name": "ipython",
    "version": 3
   },
   "file_extension": ".py",
   "mimetype": "text/x-python",
   "name": "python",
   "nbconvert_exporter": "python",
   "pygments_lexer": "ipython3",
   "version": "3.13.2"
  }
 },
 "nbformat": 4,
 "nbformat_minor": 5
}
